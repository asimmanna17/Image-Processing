{
 "cells": [
  {
   "cell_type": "code",
   "execution_count": 1,
   "id": "afa2ec34",
   "metadata": {},
   "outputs": [
    {
     "name": "stdout",
     "output_type": "stream",
     "text": [
      "torch.Size([1, 3, 3456, 4608])\n",
      "(-17.10400640713806, 1.0672462433888086)\n",
      "(-0.10567152960038584, 0.07038063961977059)\n"
     ]
    }
   ],
   "source": [
    "import numpy as np\n",
    "import os\n",
    "import cv2\n",
    "import matplotlib.pyplot as plt\n",
    "import torch\n",
    "import torch.nn as nn\n",
    "from collections import OrderedDict\n",
    "from scipy.ndimage import shift as shift_fn\n",
    "\n",
    "\n",
    "from global_shift import to_tensor, data_load, shift_adjustment,shift_image_subpixel\n",
    "device = torch.device('cuda' if torch.cuda.is_available() else 'cpu')"
   ]
  },
  {
   "cell_type": "code",
   "execution_count": 2,
   "id": "f6ddb3bd",
   "metadata": {},
   "outputs": [],
   "source": [
    "\n",
    "def CHbayer_to_bayer(bayer_array):\n",
    "    H, W = bayer_array.shape[1:]\n",
    "    bayer = np.zeros((H * 2, W * 2), dtype=bayer_array.dtype)\n",
    "    bayer[0::2, 0::2] = bayer_array[0]\n",
    "    bayer[0::2, 1::2] = bayer_array[1]\n",
    "    bayer[1::2, 0::2] = bayer_array[2]\n",
    "    bayer[1::2, 1::2] = bayer_array[3]\n",
    "\n",
    "    return bayer"
   ]
  },
  {
   "cell_type": "code",
   "execution_count": 3,
   "id": "a41dad23",
   "metadata": {},
   "outputs": [],
   "source": [
    "def phase_correlation_shift(img1, img2):\n",
    "    shift, _ = cv2.phaseCorrelate(img1, img2)\n",
    "    return shift"
   ]
  },
  {
   "cell_type": "code",
   "execution_count": 12,
   "id": "9091611a",
   "metadata": {},
   "outputs": [],
   "source": [
    "def global_shift(mid, gt):\n",
    "    shifted_gt_list = []\n",
    "\n",
    "    for b in range(gt.shape[0]):\n",
    "        mid_numpy = mid[b][:4, :, :].squeeze().cpu().numpy()\n",
    "        gt_numpy = gt[b].squeeze().cpu().numpy()\n",
    "\n",
    "        mid_full = CHbayer_to_bayer(mid_numpy)\n",
    "        gt_full = CHbayer_to_bayer(gt_numpy)\n",
    "\n",
    "        print(mid_full.shape)\n",
    "        initial_shift = phase_correlation_shift(mid_full, gt_full)\n",
    "        shifted_gt = shift_image_subpixel(gt_full, initial_shift) #(H,W,C)\n",
    "        after_shift = phase_correlation_shift(mid_full, shifted_gt)\n",
    "        #print(to_tensor(shifted_gt).unsqueeze(0).shape)\n",
    "        shifted_gt_tensor = to_tensor(shifted_gt).unsqueeze(0)  # Should be (C,H,W)\n",
    "        shifted_gt_list.append(shifted_gt_tensor)\n",
    "\n",
    "    shifted_gt_batch = torch.stack(shifted_gt_list, dim=0)  # (B, C, H, W)\n",
    "\n",
    "    return shifted_gt_batch, initial_shift, after_shift\n"
   ]
  },
  {
   "cell_type": "code",
   "execution_count": 14,
   "id": "bfe767b3",
   "metadata": {},
   "outputs": [
    {
     "name": "stdout",
     "output_type": "stream",
     "text": [
      "torch.Size([1, 8, 1728, 2304])\n",
      "torch.Size([1, 4, 1728, 2304])\n",
      "(3456, 4608)\n"
     ]
    },
    {
     "data": {
      "text/plain": [
       "(torch.Size([1, 1, 3456, 4608]),\n",
       " (-17.530512806594288, 0.9916706411631822),\n",
       " (0.4701037762620217, -0.005247024676691581))"
      ]
     },
     "execution_count": 14,
     "metadata": {},
     "output_type": "execute_result"
    }
   ],
   "source": [
    "npypath = '/data/asim/ISP/HDR_transformer/data/RAW/2022-0708-1630-2434.npz'\n",
    "mid, gt = data_load(npypath)\n",
    "print(mid.shape)\n",
    "print(gt.shape)\n",
    "shifted_gt_rgb, intial_shift, after_shift = global_shift(mid, gt)\n",
    "shifted_gt_rgb.shape, intial_shift, after_shift"
   ]
  },
  {
   "cell_type": "code",
   "execution_count": null,
   "id": "b3416e0d",
   "metadata": {},
   "outputs": [],
   "source": []
  },
  {
   "cell_type": "code",
   "execution_count": null,
   "id": "68caefa3",
   "metadata": {},
   "outputs": [],
   "source": []
  },
  {
   "cell_type": "code",
   "execution_count": null,
   "id": "0ae09dbf",
   "metadata": {},
   "outputs": [],
   "source": []
  }
 ],
 "metadata": {
  "kernelspec": {
   "display_name": "Python 3",
   "language": "python",
   "name": "python3"
  },
  "language_info": {
   "codemirror_mode": {
    "name": "ipython",
    "version": 3
   },
   "file_extension": ".py",
   "mimetype": "text/x-python",
   "name": "python",
   "nbconvert_exporter": "python",
   "pygments_lexer": "ipython3",
   "version": "3.9.6"
  }
 },
 "nbformat": 4,
 "nbformat_minor": 5
}
