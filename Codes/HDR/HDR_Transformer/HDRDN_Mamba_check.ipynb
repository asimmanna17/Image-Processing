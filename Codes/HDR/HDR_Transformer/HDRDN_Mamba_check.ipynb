{
 "cells": [
  {
   "cell_type": "code",
   "execution_count": 5,
   "id": "00801603",
   "metadata": {},
   "outputs": [],
   "source": [
    "import numpy as np\n",
    "import os\n",
    "import cv2\n",
    "import matplotlib.pyplot as plt\n",
    "import torch\n",
    "import torch.nn as nn\n",
    "\n",
    "\n",
    "from HDRDN_Mamba import HDRDN_Mamba\n",
    "device = torch.device('cuda' if torch.cuda.is_available() else 'cpu')"
   ]
  },
  {
   "cell_type": "code",
   "execution_count": 6,
   "id": "cb8f52ce",
   "metadata": {},
   "outputs": [],
   "source": [
    "full_model = HDRDN_Mamba(n_channel =8, out_channel = 4, embed_dim = 60, depths=[4, 4, 4])\n",
    "full_model = full_model.cuda()"
   ]
  },
  {
   "cell_type": "code",
   "execution_count": 7,
   "id": "7a6a1f34",
   "metadata": {},
   "outputs": [
    {
     "name": "stdout",
     "output_type": "stream",
     "text": [
      "(8, 128, 128) (4, 128, 128)\n"
     ]
    },
    {
     "data": {
      "text/plain": [
       "(torch.Size([1, 4, 128, 128]), torch.Size([1, 4, 128, 128]))"
      ]
     },
     "execution_count": 7,
     "metadata": {},
     "output_type": "execute_result"
    }
   ],
   "source": [
    "npypath = '/data/asim/ISP/HDR_transformer/data/RAW/raw-2022-0606-2151-4147.npz'\n",
    "imdata = np.load(npypath)\n",
    "\n",
    "sht = imdata['sht']\n",
    "mid = imdata['mid']\n",
    "lng = imdata['lng']\n",
    "hdr = imdata['hdr']\n",
    "\n",
    "crop_size = 128\n",
    "H, W = hdr.shape[1], hdr.shape[2]\n",
    "start_h = (H - crop_size) // 2\n",
    "start_w = (W - crop_size) // 2\n",
    "\n",
    "sht_crop = sht[:, start_h:start_h+crop_size, start_w:start_w+crop_size]\n",
    "mid_crop = mid[:, start_h:start_h+crop_size, start_w:start_w+crop_size]\n",
    "lng_crop = lng[:, start_h:start_h+crop_size, start_w:start_w+crop_size]\n",
    "hdr_crop = hdr[:, start_h:start_h+crop_size, start_w:start_w+crop_size]\n",
    "\n",
    "print(sht_crop.shape, hdr_crop.shape)\n",
    "\n",
    "def to_tensor(np_array):\n",
    "    t = torch.from_numpy(np_array).float()\n",
    "    return t\n",
    "\n",
    "im1 = to_tensor(sht_crop).to(device).unsqueeze(0)\n",
    "im2 = to_tensor(mid_crop).to(device).unsqueeze(0)\n",
    "im3 = to_tensor(lng_crop).to(device).unsqueeze(0)\n",
    "ref_hdr = to_tensor(hdr_crop).to(device).unsqueeze(0)\n",
    "im1[:, :4, :, :].shape, ref_hdr.shape"
   ]
  },
  {
   "cell_type": "code",
   "execution_count": 8,
   "id": "81571c25",
   "metadata": {},
   "outputs": [
    {
     "name": "stdout",
     "output_type": "stream",
     "text": [
      "torch.Size([1, 16384, 60])\n"
     ]
    },
    {
     "data": {
      "text/plain": [
       "torch.Size([1, 4, 128, 128])"
      ]
     },
     "execution_count": 8,
     "metadata": {},
     "output_type": "execute_result"
    }
   ],
   "source": [
    "with torch.no_grad():\n",
    "    generate_hdr = full_model(im1, im2, im3)\n",
    "generate_hdr.shape"
   ]
  },
  {
   "cell_type": "code",
   "execution_count": null,
   "id": "a51f1a54",
   "metadata": {},
   "outputs": [],
   "source": []
  },
  {
   "cell_type": "code",
   "execution_count": null,
   "id": "f98f6cc6",
   "metadata": {},
   "outputs": [],
   "source": []
  }
 ],
 "metadata": {
  "kernelspec": {
   "display_name": "Python 3",
   "language": "python",
   "name": "python3"
  },
  "language_info": {
   "codemirror_mode": {
    "name": "ipython",
    "version": 3
   },
   "file_extension": ".py",
   "mimetype": "text/x-python",
   "name": "python",
   "nbconvert_exporter": "python",
   "pygments_lexer": "ipython3",
   "version": "3.9.6"
  }
 },
 "nbformat": 4,
 "nbformat_minor": 5
}
