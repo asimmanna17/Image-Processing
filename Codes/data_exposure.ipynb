{
 "cells": [
  {
   "cell_type": "code",
   "execution_count": 1,
   "id": "3f606e88",
   "metadata": {},
   "outputs": [],
   "source": [
    "import numpy as np\n",
    "import os\n",
    "import cv2\n",
    "import matplotlib.pyplot as plt\n",
    "import torch\n",
    "import torch.nn as nn\n",
    "import random\n",
    "from skimage.measure import shannon_entropy"
   ]
  },
  {
   "cell_type": "code",
   "execution_count": 2,
   "id": "b22aed70",
   "metadata": {},
   "outputs": [],
   "source": [
    "def data_load(npypath, crop_size = 768):\n",
    "#npypath = '/data/asim/ISP/HDR_transformer/data/RAW/2022-0708-1630-2434.npz'\n",
    "    imdata = np.load(npypath)\n",
    "\n",
    "    sht = imdata['sht']\n",
    "    mid = imdata['mid']\n",
    "    lng = imdata['lng']\n",
    "    hdr = imdata['hdr']\n",
    "\n",
    "\n",
    "    H, W = hdr.shape[1], hdr.shape[2]\n",
    "    start_h = (H - crop_size) // 2\n",
    "    start_w = (W - crop_size) // 2\n",
    "\n",
    "    sht_crop = sht[:, start_h:start_h+crop_size, start_w:start_w+crop_size]\n",
    "    mid_crop = mid[:, start_h:start_h+crop_size, start_w:start_w+crop_size]\n",
    "    lng_crop = lng[:, start_h:start_h+crop_size, start_w:start_w+crop_size]\n",
    "    hdr_crop = hdr[:, start_h:start_h+crop_size, start_w:start_w+crop_size]\n",
    "    return sht_crop, mid_crop"
   ]
  },
  {
   "cell_type": "code",
   "execution_count": 3,
   "id": "fc3e4a4e",
   "metadata": {},
   "outputs": [],
   "source": [
    "\n",
    "def bayer_to_rgb(bayer_array):\n",
    "    H, W = bayer_array.shape[1:]\n",
    "    bayer = np.zeros((H * 2, W * 2), dtype=bayer_array.dtype)\n",
    "    bayer[0::2, 0::2] = bayer_array[0]\n",
    "    bayer[0::2, 1::2] = bayer_array[1]\n",
    "    bayer[1::2, 0::2] = bayer_array[2]\n",
    "    bayer[1::2, 1::2] = bayer_array[3]\n",
    "\n",
    "    bayer = np.clip(bayer, 0, 1)\n",
    "    bayer = (bayer * 65535).astype(np.uint16)\n",
    "\n",
    "    #print(\"Max value before demosaicing:\", np.max(bayer))\n",
    "\n",
    "    rgb = cv2.cvtColor(bayer, cv2.COLOR_BayerBG2RGB)\n",
    "\n",
    "    rgb = rgb.astype(np.float32) / 65535.0\n",
    "\n",
    "    #print(\"Max RGB value after demosaicing:\", np.max(rgb))\n",
    "\n",
    "    # --- Normalize to maximum brightness ---\n",
    "    if np.max(rgb) > 0:\n",
    "        rgb = rgb / np.max(rgb)\n",
    "\n",
    "    # Optional: Apply gamma correction (makes image bright and natural)\n",
    "    rgb = np.clip(rgb, 0, 1) ** (1/2.2)\n",
    "\n",
    "    return rgb\n",
    "\n"
   ]
  },
  {
   "cell_type": "code",
   "execution_count": 4,
   "id": "113fa713",
   "metadata": {},
   "outputs": [],
   "source": [
    "npypath1 = '/data/asim/ISP/HDR_transformer/data/RAW/2022-0708-1630-2434.npz'\n",
    "npypath2 = '/data/asim/ISP/HDR_transformer/data/RAW/2022-0703-2242-0173.npz'\n",
    "sht1, mid1 = data_load(npypath1)\n",
    "sht2, mid2 = data_load(npypath2)"
   ]
  },
  {
   "cell_type": "code",
   "execution_count": 5,
   "id": "3c7f6823",
   "metadata": {},
   "outputs": [],
   "source": [
    "sht_rgb_1 = bayer_to_rgb(sht1[:4, :, :])\n",
    "mid_rgb_1 = bayer_to_rgb(mid1[:4, :, :])\n",
    "#plt.imshow(im1_rgb)\n",
    "sht_rgb_2 = bayer_to_rgb(sht2[:4, :, :])\n",
    "mid_rgb_2 = bayer_to_rgb(mid2[:4, :, :])"
   ]
  },
  {
   "cell_type": "code",
   "execution_count": 6,
   "id": "38c3e012",
   "metadata": {},
   "outputs": [
    {
     "data": {
      "text/plain": [
       "'overexposed_mask_in_mid = np.mean(im2_rgb, axis =2)>0.9\\nfixed_im2_rgb = im2_rgb.copy()\\nfixed_im2_rgb[overexposed_mask_in_mid]= im1_rgb[overexposed_mask_in_mid]\\nplt.imshow(fixed_im2_rgb)'"
      ]
     },
     "execution_count": 6,
     "metadata": {},
     "output_type": "execute_result"
    }
   ],
   "source": [
    "'''overexposed_mask_in_mid = np.mean(im2_rgb, axis =2)>0.9\n",
    "fixed_im2_rgb = im2_rgb.copy()\n",
    "fixed_im2_rgb[overexposed_mask_in_mid]= im1_rgb[overexposed_mask_in_mid]\n",
    "plt.imshow(fixed_im2_rgb)'''"
   ]
  },
  {
   "cell_type": "code",
   "execution_count": 7,
   "id": "ec4df1de",
   "metadata": {},
   "outputs": [
    {
     "name": "stdout",
     "output_type": "stream",
     "text": [
      "7.364266241495598 7.257632017813832\n",
      "Sample A Exposure Variance: 0.7761919560332151\n",
      "Sample B Exposure Variance: 0.7814297747634624\n"
     ]
    }
   ],
   "source": [
    "\n",
    "def compute_entropy(img):\n",
    "    if len(img.shape) == 3:  # RGB\n",
    "        return np.mean([shannon_entropy(img[:, :, c]) for c in range(3)])\n",
    "    return shannon_entropy(img)  # Grayscale\n",
    "\n",
    "# Compute entropy\n",
    "H_mid1 = compute_entropy(mid1)\n",
    "H_sht1 = compute_entropy(sht1)\n",
    "H_mid2 = compute_entropy(mid2)\n",
    "H_sht2 = compute_entropy(sht2)\n",
    "print(H_mid1, H_mid2)\n",
    "# Exposure variance for each sample\n",
    "exposure_var_A = abs(H_mid1 - H_sht1)\n",
    "exposure_var_B = abs(H_mid2 - H_sht2)\n",
    "\n",
    "# Difference in exposure variances\n",
    "delta = abs(exposure_var_A - exposure_var_B)\n",
    "\n",
    "print(\"Sample A Exposure Variance:\", exposure_var_A)\n",
    "print(\"Sample B Exposure Variance:\", exposure_var_B)\n",
    "#print(\"Variance Difference (delta):\", delta)\n"
   ]
  },
  {
   "cell_type": "code",
   "execution_count": null,
   "id": "79bcf31f",
   "metadata": {},
   "outputs": [],
   "source": []
  }
 ],
 "metadata": {
  "kernelspec": {
   "display_name": "Python 3",
   "language": "python",
   "name": "python3"
  },
  "language_info": {
   "codemirror_mode": {
    "name": "ipython",
    "version": 3
   },
   "file_extension": ".py",
   "mimetype": "text/x-python",
   "name": "python",
   "nbconvert_exporter": "python",
   "pygments_lexer": "ipython3",
   "version": "3.13.2"
  }
 },
 "nbformat": 4,
 "nbformat_minor": 5
}
